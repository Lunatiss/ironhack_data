{
 "cells": [
  {
   "cell_type": "markdown",
   "metadata": {
    "id": "1Jutznwpv97a",
    "tags": []
   },
   "source": [
    "# Lab | Data Structures"
   ]
  },
  {
   "cell_type": "markdown",
   "metadata": {
    "id": "E9aRV146v97d"
   },
   "source": [
    "## Exercise: Managing Customer Orders\n",
    "\n",
    "As part of a business venture, you are starting an online store that sells various products. To ensure smooth operations, you need to develop a program that manages customer orders and inventory.\n",
    "\n",
    "Follow the steps below to complete the exercise:\n",
    "\n",
    "1. Define a list called `products` that contains the following items: \"t-shirt\", \"mug\", \"hat\", \"book\", \"keychain\".\n",
    "\n",
    "2. Create an empty dictionary called `inventory`.\n",
    "\n",
    "3. Ask the user to input the quantity of each product available in the inventory. Use the product names from the `products` list as keys in the `inventory` dictionary and assign the respective quantities as values.\n",
    "\n",
    "4. Create an empty set called `customer_orders`.\n",
    "\n",
    "5. Ask the user to input the name of three products that a customer wants to order (from those in the products list, meaning three products out of \"t-shirt\", \"mug\", \"hat\", \"book\" or \"keychain\". Add each product name to the `customer_orders` set.\n",
    "\n",
    "6. Print the products in the `customer_orders` set.\n",
    "\n",
    "7. Calculate the following order statistics:\n",
    "   - Total Products Ordered: The total number of products in the `customer_orders` set.\n",
    "   - Percentage of Products Ordered: The percentage of products ordered compared to the total available products.\n",
    "   \n",
    "   Store these statistics in a tuple called `order_status`.\n",
    "\n",
    "8. Print the order statistics using the following format:\n",
    "   ```\n",
    "   Order Statistics:\n",
    "   Total Products Ordered: <total_products_ordered>\n",
    "   Percentage of Products Ordered: <percentage_ordered>%\n",
    "   ```\n",
    "\n",
    "9. Update the inventory by subtracting 1 from the quantity of each product. Modify the `inventory` dictionary accordingly.\n",
    "\n",
    "10. Print the updated inventory, displaying the quantity of each product on separate lines.\n",
    "\n",
    "Solve the exercise by implementing the steps using the Python concepts of lists, dictionaries, sets, and basic input/output operations."
   ]
  },
  {
   "cell_type": "code",
   "execution_count": 1,
   "metadata": {
    "id": "hSWIema-v97e"
   },
   "outputs": [],
   "source": [
    "#1\n",
    "products = (\"t-shirt\", \"mug\", \"hat\", \"book\", \"keychain\")"
   ]
  },
  {
   "cell_type": "code",
   "execution_count": 2,
   "metadata": {
    "id": "_ULwNYMSv97f"
   },
   "outputs": [],
   "source": [
    "#2\n",
    "inventory = {}"
   ]
  },
  {
   "cell_type": "code",
   "execution_count": null,
   "metadata": {
    "id": "rhB_NtBEv97g",
    "outputId": "6ad019cc-63db-4ca6-c29d-30c9bd750ade",
    "scrolled": true
   },
   "outputs": [
    {
     "name": "stdout",
     "output_type": "stream",
     "text": [
      "Enter the quantity of t-shirts available in inventory: 8\n",
      "Enter the quantity of mugs available in inventory: 9\n",
      "Enter the quantity of hats available in inventory: 10\n",
      "Enter the quantity of books available in inventory: 3\n",
      "Enter the quantity of keychains available in inventory: 5\n"
     ]
    }
   ],
   "source": [
    "inventory = {}\n",
    "\n",
    "#3 Ask the user to input the quantity of each product available in the inventory\n",
    "for product in products:\n",
    "    quantity = input(f\"Enter the quantity of {product}s available in inventory: \")\n",
    "    inventory[product] = int(quantity)"
   ]
  },
  {
   "cell_type": "code",
   "execution_count": null,
   "metadata": {
    "id": "jPsmWqrOv97h",
    "outputId": "a2aab991-4a0a-4d1e-8dd1-61843e09d898"
   },
   "outputs": [
    {
     "data": {
      "text/plain": [
       "{'t-shirt': 8, 'mug': 9, 'hat': 10, 'book': 3, 'keychain': 5}"
      ]
     },
     "execution_count": 18,
     "metadata": {},
     "output_type": "execute_result"
    }
   ],
   "source": [
    "inventory"
   ]
  },
  {
   "cell_type": "code",
   "execution_count": null,
   "metadata": {
    "id": "7coZShSZv97h"
   },
   "outputs": [],
   "source": [
    "#4 Create an empty set called customer_orders.\n",
    "customer_orders = set()"
   ]
  },
  {
   "cell_type": "code",
   "execution_count": null,
   "metadata": {
    "id": "GT3TIciCv97h",
    "outputId": "af742e3d-a2e5-4e63-dcb9-ff59c9996045"
   },
   "outputs": [
    {
     "name": "stdout",
     "output_type": "stream",
     "text": [
      "Enter a product that a customer wants to order: book\n",
      "Enter a product that a customer wants to order: mug\n",
      "Enter a product that a customer wants to order: hat\n",
      "{'book', 'mug', 'hat'}\n"
     ]
    }
   ],
   "source": [
    "#5 Ask the user to input the name of three products that a customer wants to order\n",
    "#(from those in the products list, meaning three products out of \"t-shirt\", \"mug\", \"hat\", \"book\" or \"keychain\".\n",
    "#Add each product name to the customer_orders set.\n",
    "\n",
    "for i in range(3):\n",
    "    customer_input = input(\"Enter a product that a customer wants to order: \")\n",
    "    if customer_input in products:\n",
    "        customer_orders.add(customer_input)\n",
    "    else:\n",
    "        print(\"Invalid product name.\")\n",
    "print(customer_orders)"
   ]
  },
  {
   "cell_type": "code",
   "execution_count": null,
   "metadata": {
    "id": "sFUEqqaBv97i",
    "outputId": "359b022a-274b-49d3-f114-4bf484bc8273"
   },
   "outputs": [
    {
     "name": "stdout",
     "output_type": "stream",
     "text": [
      "{'book', 'mug', 'hat'}\n"
     ]
    }
   ],
   "source": [
    "#Print the products in the customer_orders set.\n",
    "print(customer_orders)"
   ]
  },
  {
   "cell_type": "code",
   "execution_count": null,
   "metadata": {
    "id": "_gxZn1zOv97i",
    "outputId": "1cfb00a9-9c24-4016-9ae0-5fc5dc64faf5"
   },
   "outputs": [
    {
     "name": "stdout",
     "output_type": "stream",
     "text": [
      "3\n"
     ]
    }
   ],
   "source": [
    "#6 Calculate the following order statistics:\n",
    "\n",
    "#Total Products Ordered: The total number of products in the customer_orders set.\n",
    "\n",
    "total_products_ordered = len(customer_orders)\n",
    "print(total_products_ordered)"
   ]
  },
  {
   "cell_type": "code",
   "execution_count": null,
   "metadata": {
    "id": "tFcoVJsgv97i",
    "outputId": "c21426a0-a628-4286-9c17-c010cfc400cf"
   },
   "outputs": [
    {
     "name": "stdout",
     "output_type": "stream",
     "text": [
      "8.571428571428571\n"
     ]
    }
   ],
   "source": [
    "#Percentage of Products Ordered: The percentage of products ordered compared to the total available products.\n",
    "\n",
    "percentage_products_ordered = (len(customer_orders) / sum(inventory.values())) * 100\n",
    "print(percentage_products_ordered)"
   ]
  },
  {
   "cell_type": "code",
   "execution_count": null,
   "metadata": {
    "id": "-z0wDozJv97j",
    "outputId": "ba5921a7-5ac9-4322-8f58-a7e431ceddf7"
   },
   "outputs": [
    {
     "name": "stdout",
     "output_type": "stream",
     "text": [
      "(3, 8.571428571428571)\n"
     ]
    }
   ],
   "source": [
    "#7 Store these statistics in a tuple called order_status.\n",
    "order_status = (total_products_ordered, percentage_products_ordered)\n",
    "print(order_status)"
   ]
  },
  {
   "cell_type": "code",
   "execution_count": null,
   "metadata": {
    "id": "jFCx9iHbv97j"
   },
   "outputs": [],
   "source": [
    "#Update the inventory by subtracting 1 from the quantity of each product.\n",
    "#Modify the inventory dictionary accordingly."
   ]
  },
  {
   "cell_type": "code",
   "execution_count": null,
   "metadata": {
    "id": "KionUSjxv97j",
    "outputId": "f31676de-7c04-4945-baa2-46a6228e148b"
   },
   "outputs": [
    {
     "name": "stdout",
     "output_type": "stream",
     "text": [
      "{'t-shirt': 7, 'mug': 8, 'hat': 9, 'book': 2, 'keychain': 4}\n"
     ]
    }
   ],
   "source": [
    "for product in inventory:\n",
    "    inventory[product] -= 1\n",
    "print(inventory)"
   ]
  },
  {
   "cell_type": "code",
   "execution_count": null,
   "metadata": {
    "id": "iEkbcOScv97j",
    "outputId": "a99a9463-6172-4e44-ef3f-5365dabf1917"
   },
   "outputs": [
    {
     "name": "stdout",
     "output_type": "stream",
     "text": [
      "t-shirt: 7\n",
      "\n",
      "mug: 8\n",
      "\n",
      "hat: 9\n",
      "\n",
      "book: 2\n",
      "\n",
      "keychain: 4\n",
      "\n"
     ]
    }
   ],
   "source": [
    "#Print the updated inventory, displaying the quantity of each product on separate lines.\n",
    "for product, quantity in inventory.items():\n",
    "    print(f\"{product}: {quantity}\\n\")"
   ]
  },
  {
   "cell_type": "code",
   "execution_count": 5,
   "metadata": {},
   "outputs": [
    {
     "name": "stdin",
     "output_type": "stream",
     "text": [
      "Enter the quantity of t-shirt:  5\n",
      "Enter the quantity of mug:  0\n",
      "Enter the quantity of hat:  8\n",
      "Enter the quantity of book:  -2\n",
      "Enter the quantity of book:  2\n",
      "Enter the quantity of keychain:  9\n"
     ]
    }
   ],
   "source": [
    "#3 es distinto iterar para for lista y para input\n",
    "\n",
    "for product in products: \n",
    "    x = -1 #se pone para luego chequear en el input\n",
    "    while x < 0: #to control the conditions- true or false. tiene que ir a false \n",
    "          x = int(input(f\"Enter the quantity of {product}: \"))\n",
    "    inventory[product] = x\n",
    "                "
   ]
  },
  {
   "cell_type": "code",
   "execution_count": null,
   "metadata": {},
   "outputs": [],
   "source": []
  }
 ],
 "metadata": {
  "colab": {
   "provenance": []
  },
  "kernelspec": {
   "display_name": "Python 3 (ipykernel)",
   "language": "python",
   "name": "python3"
  },
  "language_info": {
   "codemirror_mode": {
    "name": "ipython",
    "version": 3
   },
   "file_extension": ".py",
   "mimetype": "text/x-python",
   "name": "python",
   "nbconvert_exporter": "python",
   "pygments_lexer": "ipython3",
   "version": "3.11.7"
  }
 },
 "nbformat": 4,
 "nbformat_minor": 4
}
